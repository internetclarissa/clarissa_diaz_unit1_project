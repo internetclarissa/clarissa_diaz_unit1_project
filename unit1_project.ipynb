{
 "cells": [
  {
   "cell_type": "markdown",
   "metadata": {},
   "source": [
    "<img src=\"http://imgur.com/1ZcRyrc.png\" style=\"float: left; margin: 20px; height: 55px\">\n",
    "\n",
    "# Project 1: Python Coding Exercises\n",
    "\n",
    "_Authors: Joseph Nelson (DC) _\n",
    "\n",
    "---"
   ]
  },
  {
   "cell_type": "markdown",
   "metadata": {},
   "source": [
    "The following code challenges are drawn from common exercises used in technical interviews.\n",
    "\n",
    "Please note that there may be several ways to approach each challenge. If you get stuck, try mapping out your approach in pseudocode first. Finally, while solutions to problems like these may be found online, remember that if you copy/paste code that you can't explain, you'll be missing out on the point of the project. The only way to truly learn a new skill is through practice, trial, and error - we can only help you improve by understanding where you are having trouble."
   ]
  },
  {
   "cell_type": "markdown",
   "metadata": {},
   "source": [
    "### Challenge 1: Largest Palindrome\n",
    "A palindromic number reads the same both ways. For example, 1234321 is a palindrome. The largest palindrome made from the product of two two-digit numbers is 9009 = 91 × 99. Find the largest palindrome made from the product of two three-digit numbers. Afterward, write a brief explanation walking through your code's logic in markdown."
   ]
  },
  {
   "cell_type": "code",
   "execution_count": 35,
   "metadata": {},
   "outputs": [
    {
     "name": "stdout",
     "output_type": "stream",
     "text": [
      "906609\n"
     ]
    }
   ],
   "source": [
    "#Set \"largest_palindrome\" variable to start at 0\n",
    "\n",
    "largest_palindrome = 0\n",
    "\n",
    "#Setting the \"for\" loop to iterate through a range of values from 999 up until 100, taking -1 steps per iteration\n",
    "for x in range(999,100,-1):\n",
    "    #Setting the \"for\" loop to iterate through a range of values from x, taking -1 steps per iteration\n",
    "   for y in range(x,100,-1):\n",
    "    #Multiply x*y\n",
    "       product = x*y\n",
    "        #change format to string\n",
    "       check = str(x*y)\n",
    "    \n",
    "        #Checks if the reverse order of product string is equal to the product string\n",
    "       if check ==  check[::-1]:\n",
    "        #If product is greater than the current largest_palindron, assign product as largest palindrom\n",
    "           if product > largest_palindrome:\n",
    "               largest_palindrome = product\n",
    "#print largest_palindrome\n",
    "print(largest_palindrome)"
   ]
  },
  {
   "cell_type": "markdown",
   "metadata": {},
   "source": []
  },
  {
   "cell_type": "markdown",
   "metadata": {},
   "source": [
    "\n",
    "### Challenge 2: Summation of Primes\n",
    "The sum of the primes below 10 is 2 + 3 + 5 + 7 = 17. Find the sum of all the primes below 2,000. Afterward, write a brief explanation walking through your code's logic in markdown."
   ]
  },
  {
   "cell_type": "code",
   "execution_count": 34,
   "metadata": {},
   "outputs": [
    {
     "name": "stdout",
     "output_type": "stream",
     "text": [
      "277050\n"
     ]
    }
   ],
   "source": [
    "# Find the sum of all the primes below 2000.\n",
    "\n",
    "#Define function to find prime numbers\n",
    "def isPrime(n):\n",
    "    #if value in n is <2 then return \"Neither\"\n",
    "    if n < 2: return \"Neither\"\n",
    "    # Range starts with 2 and only needs to go up the squareroot of n\n",
    "    for i in range(2, int(n**0.5) + 1):\n",
    "        if n % i == 0:\n",
    "            return False\n",
    "    return True\n",
    "#Set sum to equal zero\n",
    "sum = 0\n",
    "#Set the range for prime numbers to start with 2 up until but not including 2000\n",
    "for i in range(2, 2000):\n",
    "    #If number is prime, result to the pre-exsiting sum. Loop stops a number before 2000.\n",
    "    if isPrime(i):\n",
    "        sum += i\n",
    "#Prints sum of primes after completing range iteration starting at 2 up until but not including 2000\n",
    "print (sum)"
   ]
  },
  {
   "cell_type": "markdown",
   "metadata": {},
   "source": []
  },
  {
   "cell_type": "markdown",
   "metadata": {},
   "source": [
    "### Challenge 3: Multiples of 3 and 5\n",
    "If we list all of the natural numbers below 10 that are multiples of 3 or 5, we get 3, 5, 6, and 9. The sum of these multiples is 23. Find the sum of all the multiples of 3 or 5 below 1,000. Afterward, write a brief explanation walking through your code's logic in markdown."
   ]
  },
  {
   "cell_type": "code",
   "execution_count": 134,
   "metadata": {},
   "outputs": [
    {
     "name": "stdout",
     "output_type": "stream",
     "text": [
      "233168\n"
     ]
    }
   ],
   "source": [
    "#Set \"total_sum\" variable to start at 0\n",
    "total_sum = 0\n",
    "\n",
    "#Setting the \"for\" loop to iterate through a range of values from 1 up until but not including 101\n",
    "for c in range(1, 1000): \n",
    "    #Checking if the value of of c is divisible by 3 or 5, without any remainders, is True\n",
    "    if (c % 3 == 0 or c % 5 == 0):\n",
    "        #If True, add the value of c to the \"total_sum\" variable on the right to create increase the overall \"total_sum\"\n",
    "        total_sum = total_sum + c \n",
    "#Print final total_sum after iterating through all values specified in the range\n",
    "print (total_sum)"
   ]
  },
  {
   "cell_type": "markdown",
   "metadata": {},
   "source": []
  },
  {
   "cell_type": "markdown",
   "metadata": {},
   "source": [
    "### Challenge 4: String Compressor\n",
    "Implement a method to perform basic string compression using the counts of repeated characters. (This is called run-length encoding.) For example, the string \"aabcccccaaa\" would become a2b1c5a3. If the “compressed” string would not become smaller than the original string, your method should return the original string. You can assume the string has only uppercase and lowercase letters (a–z). Specify whether your solution is case sensitive or case insensitive and what you would need to change to make it the other. Afterward, write a brief explanation walking through your code's logic in markdown."
   ]
  },
  {
   "cell_type": "code",
   "execution_count": 22,
   "metadata": {},
   "outputs": [
    {
     "name": "stdout",
     "output_type": "stream",
     "text": [
      "a2b1c5a3\n"
     ]
    }
   ],
   "source": [
    "#sample input\n",
    "input_1 = \"aabcccccaaa\"\n",
    "\n",
    "#Define function for string_compresion with the argument \"input_str\"\n",
    "def string_compression(input_str):\n",
    "    #Set empty string to store compressed string\n",
    "    comp_str = \"\"\n",
    "    #Set count to 1 for the loop below\n",
    "    count = 1\n",
    "    #loop through input string check if the characters next to initial character are equal to eachother\n",
    "    for i in range(len(input_str)-1):\n",
    "        if input_str[i] == input_str[i+1]:\n",
    "            #increase the count if the previous \"if\" evaluation is true\n",
    "            count += 1\n",
    "            \n",
    "      \n",
    "        #Set the count equal to one if they next character is not equal to the previous\n",
    "        else:\n",
    "            comp_str += input_str[i] + str(count)\n",
    "            count = 1\n",
    "    comp_str += input_str[i] + str(count)\n",
    "    \n",
    "    \n",
    "    #Evalauating length of the compressed vs input string. If compressed string is greater or rqual to input string, \n",
    "    #return input string, else return compressed string. \n",
    "    if len(comp_str) >= len(input_str):\n",
    "        return input_str\n",
    "    else:\n",
    "        return comp_str\n",
    "\n",
    "#print the string compression of input variable\n",
    "print(string_compression(input_1))"
   ]
  },
  {
   "cell_type": "markdown",
   "metadata": {},
   "source": []
  },
  {
   "cell_type": "markdown",
   "metadata": {},
   "source": [
    "### Challenge 5: FizzBuzz\n",
    "\n",
    "Write a program that prints all of the numbers from 1 to 100. For multiples of 3, instead of the number, print \"Fizz;\" for multiples of 5, print \"Buzz.\" For numbers that are multiples of both 3 and 5, print \"FizzBuzz.\" Afterward, write a brief explanation walking through your code's logic in markdown."
   ]
  },
  {
   "cell_type": "code",
   "execution_count": 21,
   "metadata": {},
   "outputs": [
    {
     "name": "stdout",
     "output_type": "stream",
     "text": [
      "1\n",
      "2\n",
      "Fizz\n",
      "4\n",
      "Buzz\n",
      "Fizz\n",
      "7\n",
      "8\n",
      "Fizz\n",
      "Buzz\n",
      "11\n",
      "Fizz\n",
      "13\n",
      "14\n",
      "FizzBuzz\n",
      "16\n",
      "17\n",
      "Fizz\n",
      "19\n",
      "Buzz\n",
      "Fizz\n",
      "22\n",
      "23\n",
      "Fizz\n",
      "Buzz\n",
      "26\n",
      "Fizz\n",
      "28\n",
      "29\n",
      "FizzBuzz\n",
      "31\n",
      "32\n",
      "Fizz\n",
      "34\n",
      "Buzz\n",
      "Fizz\n",
      "37\n",
      "38\n",
      "Fizz\n",
      "Buzz\n",
      "41\n",
      "Fizz\n",
      "43\n",
      "44\n",
      "FizzBuzz\n",
      "46\n",
      "47\n",
      "Fizz\n",
      "49\n",
      "Buzz\n",
      "Fizz\n",
      "52\n",
      "53\n",
      "Fizz\n",
      "Buzz\n",
      "56\n",
      "Fizz\n",
      "58\n",
      "59\n",
      "FizzBuzz\n",
      "61\n",
      "62\n",
      "Fizz\n",
      "64\n",
      "Buzz\n",
      "Fizz\n",
      "67\n",
      "68\n",
      "Fizz\n",
      "Buzz\n",
      "71\n",
      "Fizz\n",
      "73\n",
      "74\n",
      "FizzBuzz\n",
      "76\n",
      "77\n",
      "Fizz\n",
      "79\n",
      "Buzz\n",
      "Fizz\n",
      "82\n",
      "83\n",
      "Fizz\n",
      "Buzz\n",
      "86\n",
      "Fizz\n",
      "88\n",
      "89\n",
      "FizzBuzz\n",
      "91\n",
      "92\n",
      "Fizz\n",
      "94\n",
      "Buzz\n",
      "Fizz\n",
      "97\n",
      "98\n",
      "Fizz\n",
      "Buzz\n"
     ]
    }
   ],
   "source": [
    "#Setting the \"for\" loop to iterate through a range of values from 1 up until but not including 101\n",
    "for c in range(1, 101): \n",
    "    #If the value of of c is divisible by 3 and 5, without any remainders, print \"FizzBuz\"\n",
    "    if (c % 3 == 0 and c % 5 == 0):\n",
    "        print (\"FizzBuzz\")\n",
    "    #Else if the value in c is only divisible by 3, without any remainders, print \"Fizz\"\n",
    "    elif (c % 3 == 0):\n",
    "            print (\"Fizz\")\n",
    "     #Else if the value in c is only divisble by 5, without any remainders, print \"Buzz\"\n",
    "    elif (c % 5 == 0):\n",
    "            print (\"Buzz\")\n",
    "    #Else, if none of the previous conditions are True, print the value of c\n",
    "    else:\n",
    "        print(c)"
   ]
  },
  {
   "cell_type": "markdown",
   "metadata": {},
   "source": []
  },
  {
   "cell_type": "code",
   "execution_count": null,
   "metadata": {},
   "outputs": [],
   "source": []
  }
 ],
 "metadata": {
  "anaconda-cloud": {},
  "kernelspec": {
   "display_name": "Python 3",
   "language": "python",
   "name": "python3"
  },
  "language_info": {
   "codemirror_mode": {
    "name": "ipython",
    "version": 3
   },
   "file_extension": ".py",
   "mimetype": "text/x-python",
   "name": "python",
   "nbconvert_exporter": "python",
   "pygments_lexer": "ipython3",
   "version": "3.6.5"
  }
 },
 "nbformat": 4,
 "nbformat_minor": 2
}
